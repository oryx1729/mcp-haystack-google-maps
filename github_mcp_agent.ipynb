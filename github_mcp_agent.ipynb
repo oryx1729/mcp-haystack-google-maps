{
 "cells": [
  {
   "cell_type": "code",
   "execution_count": null,
   "id": "ebb75db5-09bb-49bf-82e3-f7de79e4c4a8",
   "metadata": {},
   "outputs": [],
   "source": [
    "import nest_asyncio\n",
    "# Allows nested asyncio event loops - Jupyter already runs in an event loop,\n",
    "# so nest_asyncio lets us use asyncio.run() within this environment\n",
    "nest_asyncio.apply()"
   ]
  },
  {
   "cell_type": "code",
   "execution_count": null,
   "id": "5b359b0d-0770-404e-b224-91a373db1a03",
   "metadata": {},
   "outputs": [],
   "source": [
    "from haystack import Pipeline\n",
    "from haystack.components.agents import Agent\n",
    "from haystack.components.generators.chat import OpenAIChatGenerator\n",
    "from haystack.components.tools import ToolInvoker\n",
    "from haystack.components.converters import OutputAdapter\n",
    "from haystack.dataclasses import ChatMessage"
   ]
  },
  {
   "cell_type": "code",
   "execution_count": null,
   "id": "2d974e73-bc01-409c-9803-6b81532b10ed",
   "metadata": {},
   "outputs": [],
   "source": [
    "from haystack_integrations.tools.mcp.mcp_tool import SSEServerInfo\n",
    "from mcp_server import MCPServer"
   ]
  },
  {
   "cell_type": "code",
   "execution_count": null,
   "id": "5ac19f5d-24bb-4c87-b705-e70a0affaf6b",
   "metadata": {},
   "outputs": [],
   "source": [
    "import getpass\n",
    "import os\n",
    "os.environ[\"OPENAI_API_KEY\"] = getpass.getpass(\"Enter your OpenAI API key: \")"
   ]
  },
  {
   "cell_type": "markdown",
   "id": "ff6aa98f-5f6a-4951-9692-ad23c30084df",
   "metadata": {},
   "source": [
    "## Run a GitHub MCP Server locally\n",
    "\n",
    "```\n",
    "docker run -it --rm -p 8000:8000 -e GITHUB_PERSONAL_ACCESS_TOKEN=$<YOUR_TOKEN>  supercorp/supergateway \\\n",
    "    --stdio \"npx -y @modelcontextprotocol/server-github\" \\\n",
    "    --port 8000\n",
    "```"
   ]
  },
  {
   "cell_type": "code",
   "execution_count": null,
   "id": "cacbaef2-28b8-4f01-b19e-1f6f9ab0ecc8",
   "metadata": {},
   "outputs": [],
   "source": [
    "github_mcp = MCPServer(server_info=SSEServerInfo(base_url=f\"http://localhost:8000\"))\n",
    "github_mcp.name = \"github_mcp\""
   ]
  },
  {
   "cell_type": "code",
   "execution_count": null,
   "id": "22d592ab-1724-4229-8289-d5e859c96525",
   "metadata": {},
   "outputs": [],
   "source": [
    "prompt = \"\"\"# GitHub Issue Resolution Agent\n",
    "\n",
    "You are an AI assistant specialized in resolving GitHub issues by analyzing issue descriptions, identifying problems in code, generating fixes, and creating pull requests. You work methodically and thoroughly to solve technical problems.\n",
    "\n",
    "## Your Process\n",
    "\n",
    "1. **Analyze Issues**\n",
    "   - When provided with a GitHub issue link, you read and understand the problem description\n",
    "   - Identify key information: expected behavior, actual behavior, error messages, and reproduction steps\n",
    "   - Categorize the issue type (bug, feature request, enhancement, documentation)\n",
    "\n",
    "2. **Search Code**\n",
    "   - Navigate the repository to locate relevant files and code areas\n",
    "   - Use search tools to find specific patterns, functions, or error-related code\n",
    "   - Check related files that might be affected by the issue\n",
    "\n",
    "3. **Diagnose Problems**\n",
    "   - Review code logic to identify bugs or implementation issues\n",
    "   - Consider edge cases that may be causing the reported behavior\n",
    "   - Evaluate performance implications of potential fixes\n",
    "\n",
    "4. **Generate Solutions**\n",
    "   - Develop multiple approaches to fix the issue, considering:\n",
    "     - Code maintainability and readability\n",
    "     - Backward compatibility\n",
    "     - Performance impact\n",
    "     - Adherence to project coding standards\n",
    "   - Select the optimal solution based on these factors\n",
    "\n",
    "5. **Implement Fixes**\n",
    "   - Create necessary code changes with clean, well-documented implementations\n",
    "   - Add inline comments explaining your changes when appropriate\n",
    "   - Include tests that verify the fix works correctly\n",
    "\n",
    "6. **Create Pull Requests**\n",
    "   - Generate descriptive PR titles that clearly state what is being fixed\n",
    "   - Write comprehensive PR descriptions that:\n",
    "     - Reference the original issue\n",
    "     - Explain the root cause of the problem\n",
    "     - Detail your solution approach\n",
    "     - Document any trade-offs or alternatives considered\n",
    "   - Follow repository-specific PR templates where applicable\n",
    "\n",
    "## Guidelines\n",
    "\n",
    "- Always follow the project's coding style and contribution guidelines\n",
    "- Make minimal changes necessary to fix the issue\n",
    "- Include tests for your changes when appropriate\n",
    "- Be clear and precise in your PR descriptions\n",
    "- Link related issues and documentation\n",
    "- Be responsive to feedback on your PRs\n",
    "\n",
    "## Example Usage\n",
    "\n",
    "When I provide you with a GitHub issue link like: `https://github.com/username/repository/issues/123`, you should:\n",
    "\n",
    "1. Read the issue description\n",
    "2. Search for relevant code in the repository\n",
    "3. Diagnose the problem\n",
    "4. Generate and implement a fix\n",
    "5. Create a pull request with a clear description\n",
    "6. Report back with your actions and reasoning\n",
    "\n",
    "Let me know if you need any additional information to resolve an issue.\n",
    "\"\"\""
   ]
  },
  {
   "cell_type": "code",
   "execution_count": null,
   "id": "74b563e4-b613-44fa-a88a-e2be1410f623",
   "metadata": {},
   "outputs": [],
   "source": [
    "github_agent = Agent(\n",
    "    chat_generator=OpenAIChatGenerator(model=\"gpt-4o\"),\n",
    "    system_prompt=prompt,\n",
    "    tools=github_mcp\n",
    ")"
   ]
  },
  {
   "cell_type": "code",
   "execution_count": null,
   "id": "b9780910-6e95-42c6-bfad-7ae4753977bb",
   "metadata": {},
   "outputs": [],
   "source": [
    "pipeline = Pipeline()\n",
    "pipeline.add_component(\"github_agent\", github_agent)"
   ]
  },
  {
   "cell_type": "code",
   "execution_count": null,
   "id": "125573ac-08d7-4792-9458-25d114c703dc",
   "metadata": {},
   "outputs": [],
   "source": [
    "def query_pipeline(user_input):\n",
    "    user_input_msg = ChatMessage.from_user(text=user_input)\n",
    "    result = pipeline.run({\n",
    "        \"github_agent\": {\"messages\": [user_input_msg]}, \n",
    "    \n",
    "    })\n",
    "    return result"
   ]
  },
  {
   "cell_type": "code",
   "execution_count": null,
   "id": "9e9e4420-de69-4be9-8617-c439961f5240",
   "metadata": {},
   "outputs": [],
   "source": [
    "query_pipeline(user_input = \"create a PR for https://github.com/my-user-name/my-repo/issues/1\")"
   ]
  }
 ],
 "metadata": {
  "kernelspec": {
   "display_name": "Python 3 (ipykernel)",
   "language": "python",
   "name": "python3"
  },
  "language_info": {
   "codemirror_mode": {
    "name": "ipython",
    "version": 3
   },
   "file_extension": ".py",
   "mimetype": "text/x-python",
   "name": "python",
   "nbconvert_exporter": "python",
   "pygments_lexer": "ipython3",
   "version": "3.10.16"
  }
 },
 "nbformat": 4,
 "nbformat_minor": 5
}
